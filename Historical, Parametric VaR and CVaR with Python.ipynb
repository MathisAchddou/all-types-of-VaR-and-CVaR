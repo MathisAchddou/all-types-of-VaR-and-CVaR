{
 "cells": [
  {
   "cell_type": "code",
   "execution_count": 1,
   "id": "14a6b8f9",
   "metadata": {},
   "outputs": [],
   "source": [
    "# Implement Value at RIsk and Conditional Value at Risk using : Historical Method / Parametric Method / Monte Carlo Method\n"
   ]
  },
  {
   "cell_type": "code",
   "execution_count": null,
   "id": "ad060a09",
   "metadata": {},
   "outputs": [],
   "source": []
  },
  {
   "cell_type": "code",
   "execution_count": 5,
   "id": "14d88c93",
   "metadata": {},
   "outputs": [],
   "source": [
    "import pandas as pd\n",
    "import numpy as np\n",
    "import datetime as dt\n",
    "from pandas_datareader import data as pdr\n",
    "import yfinance as yf\n",
    "from scipy.stats import norm, t"
   ]
  },
  {
   "cell_type": "code",
   "execution_count": 6,
   "id": "cac18599",
   "metadata": {},
   "outputs": [],
   "source": [
    "# Import data : \n",
    "\n",
    "def getData(stocks, start, end):\n",
    "    stock_data= yf.download(stocks, start= start, end=end)\n",
    "    stock_data=stock_data['Close']\n",
    "    returns = stock_data.pct_change()\n",
    "    meanReturns = returns.mean()\n",
    "    covMatrix = returns.cov()\n",
    "    return returns, meanReturns, covMatrix"
   ]
  },
  {
   "cell_type": "code",
   "execution_count": 7,
   "id": "dd1fae53",
   "metadata": {},
   "outputs": [],
   "source": [
    "# Portfolio Performance : \n",
    "\n",
    "def PortfolioPerformance(weights, meanReturns, covMatrix, Time):\n",
    "    returns = np.sum(meanReturns*weights)*Time\n",
    "    std = np.sqrt( np.dot(weights.T, np.dot(covMatrix, weights)) ) * np.sqrt(Time)\n",
    "    return returns, std"
   ]
  },
  {
   "cell_type": "code",
   "execution_count": 8,
   "id": "93bfe1fd",
   "metadata": {},
   "outputs": [
    {
     "name": "stderr",
     "output_type": "stream",
     "text": [
      "[*********************100%%**********************]  6 of 6 completed\n"
     ]
    }
   ],
   "source": [
    "stockList = ['CBA', 'BHP', 'TLS', 'NAB', 'WBC', 'STO']\n",
    "stocks = [stock+'.AX' for stock in stockList]\n",
    "endDate = dt.datetime.now()\n",
    "startDate = endDate - dt.timedelta(days = 800)\n",
    "\n",
    "returns, meanReturns, covMatrix = getData(stocks, start = startDate, end = endDate)\n",
    "returns = returns.dropna() "
   ]
  },
  {
   "cell_type": "code",
   "execution_count": 9,
   "id": "880cd36d",
   "metadata": {},
   "outputs": [],
   "source": [
    "weights = np.random.random(len(returns.columns))\n",
    "weights /= np.sum(weights)\n"
   ]
  },
  {
   "cell_type": "code",
   "execution_count": 10,
   "id": "d02317d1",
   "metadata": {},
   "outputs": [
    {
     "name": "stdout",
     "output_type": "stream",
     "text": [
      "              BHP.AX    CBA.AX    NAB.AX    STO.AX    TLS.AX    WBC.AX  \\\n",
      "Date                                                                     \n",
      "2021-11-24  0.004993  0.003718 -0.000702  0.022255  0.000000 -0.000459   \n",
      "2021-11-25  0.009937 -0.014509 -0.004569 -0.010160  0.002457 -0.007798   \n",
      "2021-11-26 -0.015277 -0.010024 -0.023658 -0.048387 -0.007353 -0.025428   \n",
      "2021-11-29  0.014199 -0.010864 -0.016275 -0.015408 -0.012346 -0.007590   \n",
      "2021-11-30  0.020741 -0.006398  0.003676 -0.001565  0.017500 -0.019120   \n",
      "...              ...       ...       ...       ...       ...       ...   \n",
      "2024-01-25  0.014511  0.001395 -0.002510  0.007884  0.000000  0.005942   \n",
      "2024-01-29 -0.014093  0.009229  0.011010  0.016949  0.000000  0.009705   \n",
      "2024-01-30  0.003840  0.001122 -0.000311 -0.005128  0.005000 -0.004597   \n",
      "2024-01-31  0.004676  0.012753  0.014628  0.011598  0.004975  0.015113   \n",
      "2024-02-01 -0.003385 -0.029184 -0.021472 -0.011465 -0.002475 -0.016956   \n",
      "\n",
      "            Portfolio  \n",
      "Date                   \n",
      "2021-11-24   0.005538  \n",
      "2021-11-25  -0.004576  \n",
      "2021-11-26  -0.026305  \n",
      "2021-11-29  -0.009566  \n",
      "2021-11-30  -0.000473  \n",
      "...               ...  \n",
      "2024-01-25   0.004580  \n",
      "2024-01-29   0.007722  \n",
      "2024-01-30  -0.001398  \n",
      "2024-01-31   0.011640  \n",
      "2024-02-01  -0.013742  \n",
      "\n",
      "[551 rows x 7 columns]\n"
     ]
    }
   ],
   "source": [
    "returns['Portfolio'] = returns.dot(weights)\n",
    "print(returns)"
   ]
  },
  {
   "cell_type": "code",
   "execution_count": 11,
   "id": "3b24526e",
   "metadata": {},
   "outputs": [
    {
     "name": "stdout",
     "output_type": "stream",
     "text": [
      "BHP.AX      -0.029674\n",
      "CBA.AX      -0.019797\n",
      "NAB.AX      -0.020811\n",
      "STO.AX      -0.026774\n",
      "TLS.AX      -0.012987\n",
      "WBC.AX      -0.020276\n",
      "Portfolio   -0.016515\n",
      "dtype: float64\n",
      "-0.016515303268001463\n"
     ]
    }
   ],
   "source": [
    "def HistoricalVaR(returns, alpha = 5):\n",
    "    #Read in a pandas dataframe of returns / a pandas series of returns\n",
    "    #Output the percentile of distribution at that given alpha confidence\n",
    "    \n",
    "    if isinstance(returns, pd.Series):\n",
    "        return np.percentile(returns, alpha)\n",
    "    \n",
    "    elif isinstance(returns, pd.DataFrame):\n",
    "        return returns.aggregate(HistoricalVaR, alpha=5)\n",
    "    \n",
    "    else:\n",
    "        raise TypeError(\"Expected returns to be dataFrame or series\")\n",
    "        \n",
    "print(HistoricalVaR(returns, alpha=5))        \n",
    "print(HistoricalVaR(returns['Portfolio'], alpha=5))"
   ]
  },
  {
   "cell_type": "code",
   "execution_count": 12,
   "id": "b76f97df",
   "metadata": {},
   "outputs": [
    {
     "name": "stdout",
     "output_type": "stream",
     "text": [
      "BHP.AX      -0.044897\n",
      "CBA.AX      -0.027357\n",
      "NAB.AX      -0.029323\n",
      "STO.AX      -0.040883\n",
      "TLS.AX      -0.021096\n",
      "WBC.AX      -0.029080\n",
      "Portfolio   -0.022010\n",
      "dtype: float64\n",
      "-0.022010082903593263\n"
     ]
    }
   ],
   "source": [
    "def HistoricalCVaR(returns, alpha=5):\n",
    "    #Read in a pandas dataframe of returns / a pandas series of returns\n",
    "    #Output the CVaR for a dataframe / Series\n",
    "        \n",
    "    if isinstance(returns, pd.Series):\n",
    "        belowVaR = returns <= HistoricalVaR(returns, alpha=alpha)\n",
    "        return returns[belowVaR].mean()\n",
    "    \n",
    "    elif isinstance(returns, pd.DataFrame):\n",
    "        return returns.aggregate(HistoricalCVaR, alpha=5)\n",
    "    \n",
    "    else:\n",
    "        raise TypeError(\"Expected returns to be dataFrame or series\")\n",
    "        \n",
    "print(HistoricalCVaR(returns, alpha=5))\n",
    "print(HistoricalCVaR(returns['Portfolio'], alpha=5))"
   ]
  },
  {
   "cell_type": "code",
   "execution_count": 22,
   "id": "5f3c1bdf",
   "metadata": {},
   "outputs": [
    {
     "name": "stdout",
     "output_type": "stream",
     "text": [
      "Expected Portfolio Return:          29.73\n",
      "Value at Risk at 95th Confidence Interval:        1651.53\n",
      "Conditional VaR at 95th Confidence Interval:       2201.01\n"
     ]
    }
   ],
   "source": [
    "# 100 day\n",
    "\n",
    "Time = 1\n",
    "\n",
    "VaR = -HistoricalVaR(returns['Portfolio'], alpha=5)*np.sqrt(Time)\n",
    "CVaR = -HistoricalCVaR(returns['Portfolio'], alpha=5)*np.sqrt(Time)\n",
    "pRet, pStd = PortfolioPerformance(weights, meanReturns, covMatrix, Time)\n",
    "\n",
    "Initial_investment = 100000\n",
    "\n",
    "print('Expected Portfolio Return:         ', round(Initial_investment*pRet,2))\n",
    "print('Value at Risk at 95th Confidence Interval:       ', round(Initial_investment*VaR,2))\n",
    "print('Conditional VaR at 95th Confidence Interval:      ',round(Initial_investment*CVaR,2))"
   ]
  },
  {
   "cell_type": "code",
   "execution_count": 23,
   "id": "7b0bc946",
   "metadata": {},
   "outputs": [
    {
     "name": "stdout",
     "output_type": "stream",
     "text": [
      "With the selected PTF, over a 1 day time horizon, we expect to make: 29.73\n",
      "With the selected PTF, over a 1 day time horizon, we know with a 95% certainty that we are not going to loose more than: 1651.53\n",
      "Historicaly with this PTF, in the lowest 5th percentile, the expected shortfall that we have is: 2201.01\n"
     ]
    }
   ],
   "source": [
    "print(f'With the selected PTF, over a {Time} day time horizon, we expect to make:',round(Initial_investment*pRet,2))\n",
    "print(f'With the selected PTF, over a {Time} day time horizon, we know with a 95% certainty that we are not going to loose more than:', round(Initial_investment*VaR,2)) \n",
    "print('Historicaly with this PTF, in the lowest 5th percentile, the expected shortfall that we have is:',round(Initial_investment*CVaR,2)) \n",
    "# Historicaly with this PTF, in the lowest 5th percentile, the expected shortfall that we have is: "
   ]
  },
  {
   "cell_type": "code",
   "execution_count": 15,
   "id": "23bb22a1",
   "metadata": {},
   "outputs": [],
   "source": [
    "#CVaR is mandatory as its giving us the worst case scenario "
   ]
  },
  {
   "cell_type": "code",
   "execution_count": null,
   "id": "6c6c7ae4",
   "metadata": {},
   "outputs": [],
   "source": []
  },
  {
   "cell_type": "code",
   "execution_count": null,
   "id": "e4d4d816",
   "metadata": {},
   "outputs": [],
   "source": [
    "#Parametric VaR and CVaR with Normal distribution and t-distribution"
   ]
  },
  {
   "cell_type": "code",
   "execution_count": null,
   "id": "af4f2844",
   "metadata": {},
   "outputs": [],
   "source": [
    "#The t-distribution, like the normal distribution, is bell-shaped and symmetric, but it has heavier tails, which means that it tends to produce values that fall far from its mean.\n",
    "#Because the t-distribution has fatter tails than a normal distribution, it can be used as a model for financial returns that exhibit excess kurtosis, which will allow for a more realistic calculation of Value at Risk (VaR) in such cases."
   ]
  },
  {
   "cell_type": "code",
   "execution_count": 24,
   "id": "e5dc77b9",
   "metadata": {},
   "outputs": [],
   "source": [
    "def var_parametric(ptf_return, ptf_std, distribution = 'normal', alpha=5, dof=6):\n",
    "    # we want to calculate the PTF VaR given a distribution, with known parameters \n",
    "    if distribution == 'normal':\n",
    "        VaR = norm.ppf(1-alpha /100)* ptf_std - ptf_return\n",
    "    elif distribution == 't-distribution':\n",
    "        nu = dof\n",
    "        VaR = np.sqrt((nu-2)/nu)*t.ppf(1-alpha/100, nu)*ptf_std - ptf_return\n",
    "    else:\n",
    "        raise TypeError (\"Expected distribution to be normal or t-distribution\")\n",
    "    return VaR\n",
    "\n",
    "def cvar_parametric(ptf_return, ptf_std, distribution = 'normal', alpha=5, dof=6):\n",
    "    # we want to calculate the PTF CVaR given a distribution, with known parameters \n",
    "    if distribution == 'normal':\n",
    "        CVaR = (alpha /100)**-1 * norm.pdf(norm.ppf(alpha/100))*ptf_std - ptf_return\n",
    "    elif distribution == 't-distribution':\n",
    "        nu = dof\n",
    "        x_anu = t.ppf(alpha/100, nu)\n",
    "        CVaR = -1/(alpha/100) * (1-nu)**-1 * (nu-2 + x_anu**2) * t.pdf(x_anu, nu)*ptf_std - ptf_return\n",
    "    else:\n",
    "        raise TypeError (\"Expected distribution to be normal or t-distribution\")\n",
    "    return CVaR"
   ]
  },
  {
   "cell_type": "code",
   "execution_count": 25,
   "id": "4f7b251f",
   "metadata": {},
   "outputs": [],
   "source": [
    "norm_VaR = var_parametric(pRet, pStd)\n",
    "norm_CVaR = cvar_parametric(pRet, pStd)    "
   ]
  },
  {
   "cell_type": "code",
   "execution_count": 26,
   "id": "671102fa",
   "metadata": {},
   "outputs": [],
   "source": [
    "tVar = var_parametric(pRet, pStd, distribution = 't-distribution')\n",
    "tCVar = cvar_parametric(pRet, pStd, distribution = 't-distribution')"
   ]
  },
  {
   "cell_type": "code",
   "execution_count": 28,
   "id": "9e48a545",
   "metadata": {},
   "outputs": [
    {
     "name": "stdout",
     "output_type": "stream",
     "text": [
      "Normal Value at Risk at 95th Confidence Interval:        1492.74\n",
      "Normal Conditional VaR at 95th Confidence Interval:       1879.51\n",
      "t-dist Value at Risk at 95th Confidence Interval:        1438.83\n",
      "t-dist Conditional VaR at 95th Confidence Interval:       1966.01\n"
     ]
    }
   ],
   "source": [
    "print('Normal Value at Risk at 95th Confidence Interval:       ', round(Initial_investment*norm_VaR,2))\n",
    "print('Normal Conditional VaR at 95th Confidence Interval:      ',round(Initial_investment*norm_CVaR,2))\n",
    "\n",
    "print('t-dist Value at Risk at 95th Confidence Interval:       ', round(Initial_investment*tVar,2))\n",
    "print('t-dist Conditional VaR at 95th Confidence Interval:      ',round(Initial_investment*tCVar,2))"
   ]
  },
  {
   "cell_type": "code",
   "execution_count": null,
   "id": "b7fdd381",
   "metadata": {},
   "outputs": [],
   "source": []
  },
  {
   "cell_type": "code",
   "execution_count": null,
   "id": "6ad591e6",
   "metadata": {},
   "outputs": [],
   "source": []
  },
  {
   "cell_type": "code",
   "execution_count": null,
   "id": "6b636903",
   "metadata": {},
   "outputs": [],
   "source": []
  }
 ],
 "metadata": {
  "kernelspec": {
   "display_name": "Python 3 (ipykernel)",
   "language": "python",
   "name": "python3"
  },
  "language_info": {
   "codemirror_mode": {
    "name": "ipython",
    "version": 3
   },
   "file_extension": ".py",
   "mimetype": "text/x-python",
   "name": "python",
   "nbconvert_exporter": "python",
   "pygments_lexer": "ipython3",
   "version": "3.11.5"
  }
 },
 "nbformat": 4,
 "nbformat_minor": 5
}
